{
 "cells": [
  {
   "cell_type": "code",
   "execution_count": 2,
   "id": "b020c130",
   "metadata": {},
   "outputs": [],
   "source": [
    "import pandas as pd\n",
    "import numpy as np\n",
    "import matplotlib.pyplot as plt\n",
    "import seaborn as sns\n",
    "from sklearn.model_selection import train_test_split\n",
    "from sklearn.preprocessing import OneHotEncoder, StandardScaler\n",
    "from sklearn.linear_model import LogisticRegression\n",
    "from sklearn.multiclass import OneVsOneClassifier\n",
    "from sklearn.metrics import accuracy_score\n",
    "import sklearn as sk\n",
    "import warnings\n",
    "warnings.filterwarnings('ignore')"
   ]
  },
  {
   "cell_type": "code",
   "execution_count": 3,
   "id": "00e575e9",
   "metadata": {},
   "outputs": [
    {
     "data": {
      "text/plain": [
       "dict_keys(['data', 'target', 'frame', 'target_names', 'DESCR', 'feature_names', 'filename', 'data_module'])"
      ]
     },
     "execution_count": 3,
     "metadata": {},
     "output_type": "execute_result"
    }
   ],
   "source": [
    "iris_DB =sk.datasets.load_iris()\n",
    "iris_DB.keys()"
   ]
  },
  {
   "cell_type": "code",
   "execution_count": 4,
   "id": "269e35ea",
   "metadata": {},
   "outputs": [
    {
     "data": {
      "text/plain": [
       "['sepal length (cm)',\n",
       " 'sepal width (cm)',\n",
       " 'petal length (cm)',\n",
       " 'petal width (cm)']"
      ]
     },
     "execution_count": 4,
     "metadata": {},
     "output_type": "execute_result"
    }
   ],
   "source": [
    "iris_DB['feature_names']"
   ]
  },
  {
   "cell_type": "code",
   "execution_count": 16,
   "id": "428f4682",
   "metadata": {},
   "outputs": [
    {
     "data": {
      "text/html": [
       "<div>\n",
       "<style scoped>\n",
       "    .dataframe tbody tr th:only-of-type {\n",
       "        vertical-align: middle;\n",
       "    }\n",
       "\n",
       "    .dataframe tbody tr th {\n",
       "        vertical-align: top;\n",
       "    }\n",
       "\n",
       "    .dataframe thead th {\n",
       "        text-align: right;\n",
       "    }\n",
       "</style>\n",
       "<table border=\"1\" class=\"dataframe\">\n",
       "  <thead>\n",
       "    <tr style=\"text-align: right;\">\n",
       "      <th></th>\n",
       "      <th>sepal length (cm)</th>\n",
       "      <th>sepal width (cm)</th>\n",
       "      <th>petal length (cm)</th>\n",
       "      <th>petal width (cm)</th>\n",
       "      <th>target</th>\n",
       "    </tr>\n",
       "  </thead>\n",
       "  <tbody>\n",
       "    <tr>\n",
       "      <th>0</th>\n",
       "      <td>5.1</td>\n",
       "      <td>3.5</td>\n",
       "      <td>1.4</td>\n",
       "      <td>0.2</td>\n",
       "      <td>0</td>\n",
       "    </tr>\n",
       "    <tr>\n",
       "      <th>1</th>\n",
       "      <td>4.9</td>\n",
       "      <td>3.0</td>\n",
       "      <td>1.4</td>\n",
       "      <td>0.2</td>\n",
       "      <td>0</td>\n",
       "    </tr>\n",
       "    <tr>\n",
       "      <th>2</th>\n",
       "      <td>4.7</td>\n",
       "      <td>3.2</td>\n",
       "      <td>1.3</td>\n",
       "      <td>0.2</td>\n",
       "      <td>0</td>\n",
       "    </tr>\n",
       "    <tr>\n",
       "      <th>3</th>\n",
       "      <td>4.6</td>\n",
       "      <td>3.1</td>\n",
       "      <td>1.5</td>\n",
       "      <td>0.2</td>\n",
       "      <td>0</td>\n",
       "    </tr>\n",
       "    <tr>\n",
       "      <th>4</th>\n",
       "      <td>5.0</td>\n",
       "      <td>3.6</td>\n",
       "      <td>1.4</td>\n",
       "      <td>0.2</td>\n",
       "      <td>0</td>\n",
       "    </tr>\n",
       "    <tr>\n",
       "      <th>...</th>\n",
       "      <td>...</td>\n",
       "      <td>...</td>\n",
       "      <td>...</td>\n",
       "      <td>...</td>\n",
       "      <td>...</td>\n",
       "    </tr>\n",
       "    <tr>\n",
       "      <th>145</th>\n",
       "      <td>6.7</td>\n",
       "      <td>3.0</td>\n",
       "      <td>5.2</td>\n",
       "      <td>2.3</td>\n",
       "      <td>2</td>\n",
       "    </tr>\n",
       "    <tr>\n",
       "      <th>146</th>\n",
       "      <td>6.3</td>\n",
       "      <td>2.5</td>\n",
       "      <td>5.0</td>\n",
       "      <td>1.9</td>\n",
       "      <td>2</td>\n",
       "    </tr>\n",
       "    <tr>\n",
       "      <th>147</th>\n",
       "      <td>6.5</td>\n",
       "      <td>3.0</td>\n",
       "      <td>5.2</td>\n",
       "      <td>2.0</td>\n",
       "      <td>2</td>\n",
       "    </tr>\n",
       "    <tr>\n",
       "      <th>148</th>\n",
       "      <td>6.2</td>\n",
       "      <td>3.4</td>\n",
       "      <td>5.4</td>\n",
       "      <td>2.3</td>\n",
       "      <td>2</td>\n",
       "    </tr>\n",
       "    <tr>\n",
       "      <th>149</th>\n",
       "      <td>5.9</td>\n",
       "      <td>3.0</td>\n",
       "      <td>5.1</td>\n",
       "      <td>1.8</td>\n",
       "      <td>2</td>\n",
       "    </tr>\n",
       "  </tbody>\n",
       "</table>\n",
       "<p>150 rows × 5 columns</p>\n",
       "</div>"
      ],
      "text/plain": [
       "     sepal length (cm)  sepal width (cm)  petal length (cm)  petal width (cm)  \\\n",
       "0                  5.1               3.5                1.4               0.2   \n",
       "1                  4.9               3.0                1.4               0.2   \n",
       "2                  4.7               3.2                1.3               0.2   \n",
       "3                  4.6               3.1                1.5               0.2   \n",
       "4                  5.0               3.6                1.4               0.2   \n",
       "..                 ...               ...                ...               ...   \n",
       "145                6.7               3.0                5.2               2.3   \n",
       "146                6.3               2.5                5.0               1.9   \n",
       "147                6.5               3.0                5.2               2.0   \n",
       "148                6.2               3.4                5.4               2.3   \n",
       "149                5.9               3.0                5.1               1.8   \n",
       "\n",
       "     target  \n",
       "0         0  \n",
       "1         0  \n",
       "2         0  \n",
       "3         0  \n",
       "4         0  \n",
       "..      ...  \n",
       "145       2  \n",
       "146       2  \n",
       "147       2  \n",
       "148       2  \n",
       "149       2  \n",
       "\n",
       "[150 rows x 5 columns]"
      ]
     },
     "execution_count": 16,
     "metadata": {},
     "output_type": "execute_result"
    }
   ],
   "source": [
    "y = iris_DB['target']\n",
    "X = iris_DB['data']\n",
    "table_iris = pd.DataFrame(X, columns=iris_DB['feature_names'])\n",
    "table_iris['target']= y\n",
    "table_iris"
   ]
  },
  {
   "cell_type": "code",
   "execution_count": 17,
   "id": "12718e41",
   "metadata": {},
   "outputs": [
    {
     "data": {
      "image/png": "[encoded data removed]",
      "text/plain": [
       "<Figure size 640x480 with 1 Axes>"
      ]
     },
     "metadata": {},
     "output_type": "display_data"
    }
   ],
   "source": [
    "# Distribution of target variable\n",
    "sns.countplot(y='target', data=table_iris)\n",
    "plt.title('Distribution of Obesity Levels')\n",
    "plt.show()"
   ]
  },
  {
   "cell_type": "markdown",
   "id": "7bfabe70",
   "metadata": {},
   "source": [
    "This dataset is perfectly balanced, with exactly 50 observations per category."
   ]
  },
  {
   "cell_type": "code",
   "execution_count": 19,
   "id": "87e883c2",
   "metadata": {},
   "outputs": [
    {
     "name": "stdout",
     "output_type": "stream",
     "text": [
      "<class 'pandas.core.frame.DataFrame'>\n",
      "RangeIndex: 150 entries, 0 to 149\n",
      "Data columns (total 5 columns):\n",
      " #   Column             Non-Null Count  Dtype  \n",
      "---  ------             --------------  -----  \n",
      " 0   sepal length (cm)  150 non-null    float64\n",
      " 1   sepal width (cm)   150 non-null    float64\n",
      " 2   petal length (cm)  150 non-null    float64\n",
      " 3   petal width (cm)   150 non-null    float64\n",
      " 4   target             150 non-null    int64  \n",
      "dtypes: float64(4), int64(1)\n",
      "memory usage: 6.0 KB\n",
      "None\n",
      "       sepal length (cm)  sepal width (cm)  petal length (cm)  \\\n",
      "count         150.000000        150.000000         150.000000   \n",
      "mean            5.843333          3.057333           3.758000   \n",
      "std             0.828066          0.435866           1.765298   \n",
      "min             4.300000          2.000000           1.000000   \n",
      "25%             5.100000          2.800000           1.600000   \n",
      "50%             5.800000          3.000000           4.350000   \n",
      "75%             6.400000          3.300000           5.100000   \n",
      "max             7.900000          4.400000           6.900000   \n",
      "\n",
      "       petal width (cm)      target  \n",
      "count        150.000000  150.000000  \n",
      "mean           1.199333    1.000000  \n",
      "std            0.762238    0.819232  \n",
      "min            0.100000    0.000000  \n",
      "25%            0.300000    0.000000  \n",
      "50%            1.300000    1.000000  \n",
      "75%            1.800000    2.000000  \n",
      "max            2.500000    2.000000  \n"
     ]
    }
   ],
   "source": [
    "print(table_iris.info())\n",
    "print(table_iris.describe())"
   ]
  },
  {
   "cell_type": "code",
   "execution_count": 24,
   "id": "ee1c2c3d",
   "metadata": {},
   "outputs": [],
   "source": [
    "# Standardizing continuous numerical features\n",
    "continuous_columns = table_iris.select_dtypes(include=['float64']).columns.tolist()\n",
    "\n",
    "scaler = StandardScaler()\n",
    "scaled_features = scaler.fit_transform(table_iris[continuous_columns])"
   ]
  },
  {
   "cell_type": "code",
   "execution_count": null,
   "id": "45368367",
   "metadata": {},
   "outputs": [],
   "source": [
    "# Converting to a DataFrame\n",
    "scaled_df = pd.DataFrame(scaled_features, columns=scaler.get_feature_names_out(continuous_columns))\n",
    "\n",
    "# Combining with the original dataset\n",
    "scaled_data = pd.concat([table_iris.drop(columns=continuous_columns), scaled_df], axis=1)\n",
    "scaled_data"
   ]
  },
  {
   "cell_type": "code",
   "execution_count": 36,
   "id": "9744fd8c",
   "metadata": {},
   "outputs": [],
   "source": [
    "scaled_data['target'] = scaled_data['target'].astype('str')\n"
   ]
  },
  {
   "cell_type": "code",
   "execution_count": 46,
   "id": "df56dd61",
   "metadata": {},
   "outputs": [],
   "source": [
    "# Identifying categorical columns\n",
    "\n",
    "#categorical_columns = scaled_data.select_dtypes(include=['object']).columns.tolist()\n",
    "#print(categorical_columns)\n",
    "#categorical_columns.remove('target')  # Exclude target column\n",
    "\n",
    "# Applying one-hot encoding\n",
    "\n",
    "#encoder = OneHotEncoder(sparse_output=False, drop='first')\n",
    "#encoded_features = encoder.fit_transform(scaled_data[categorical_columns])\n",
    "\n",
    "# Converting to a DataFrame\n",
    "\n",
    "#encoded_df = pd.DataFrame(encoded_features, columns=encoder.get_feature_names_out(categorical_columns))\n",
    "\n",
    "# Combining with the original dataset\n",
    "\n",
    "#prepped_data = pd.concat([scaled_data.drop(columns=categorical_columns), encoded_df], axis=1)"
   ]
  },
  {
   "cell_type": "code",
   "execution_count": 48,
   "id": "3e876432",
   "metadata": {},
   "outputs": [
    {
     "data": {
      "text/html": [
       "<div>\n",
       "<style scoped>\n",
       "    .dataframe tbody tr th:only-of-type {\n",
       "        vertical-align: middle;\n",
       "    }\n",
       "\n",
       "    .dataframe tbody tr th {\n",
       "        vertical-align: top;\n",
       "    }\n",
       "\n",
       "    .dataframe thead th {\n",
       "        text-align: right;\n",
       "    }\n",
       "</style>\n",
       "<table border=\"1\" class=\"dataframe\">\n",
       "  <thead>\n",
       "    <tr style=\"text-align: right;\">\n",
       "      <th></th>\n",
       "      <th>target</th>\n",
       "      <th>sepal length (cm)</th>\n",
       "      <th>sepal width (cm)</th>\n",
       "      <th>petal length (cm)</th>\n",
       "      <th>petal width (cm)</th>\n",
       "    </tr>\n",
       "  </thead>\n",
       "  <tbody>\n",
       "    <tr>\n",
       "      <th>0</th>\n",
       "      <td>0</td>\n",
       "      <td>-0.900681</td>\n",
       "      <td>1.019004</td>\n",
       "      <td>-1.340227</td>\n",
       "      <td>-1.315444</td>\n",
       "    </tr>\n",
       "    <tr>\n",
       "      <th>1</th>\n",
       "      <td>0</td>\n",
       "      <td>-1.143017</td>\n",
       "      <td>-0.131979</td>\n",
       "      <td>-1.340227</td>\n",
       "      <td>-1.315444</td>\n",
       "    </tr>\n",
       "    <tr>\n",
       "      <th>2</th>\n",
       "      <td>0</td>\n",
       "      <td>-1.385353</td>\n",
       "      <td>0.328414</td>\n",
       "      <td>-1.397064</td>\n",
       "      <td>-1.315444</td>\n",
       "    </tr>\n",
       "    <tr>\n",
       "      <th>3</th>\n",
       "      <td>0</td>\n",
       "      <td>-1.506521</td>\n",
       "      <td>0.098217</td>\n",
       "      <td>-1.283389</td>\n",
       "      <td>-1.315444</td>\n",
       "    </tr>\n",
       "    <tr>\n",
       "      <th>4</th>\n",
       "      <td>0</td>\n",
       "      <td>-1.021849</td>\n",
       "      <td>1.249201</td>\n",
       "      <td>-1.340227</td>\n",
       "      <td>-1.315444</td>\n",
       "    </tr>\n",
       "  </tbody>\n",
       "</table>\n",
       "</div>"
      ],
      "text/plain": [
       "   target  sepal length (cm)  sepal width (cm)  petal length (cm)  \\\n",
       "0       0          -0.900681          1.019004          -1.340227   \n",
       "1       0          -1.143017         -0.131979          -1.340227   \n",
       "2       0          -1.385353          0.328414          -1.397064   \n",
       "3       0          -1.506521          0.098217          -1.283389   \n",
       "4       0          -1.021849          1.249201          -1.340227   \n",
       "\n",
       "   petal width (cm)  \n",
       "0         -1.315444  \n",
       "1         -1.315444  \n",
       "2         -1.315444  \n",
       "3         -1.315444  \n",
       "4         -1.315444  "
      ]
     },
     "execution_count": 48,
     "metadata": {},
     "output_type": "execute_result"
    }
   ],
   "source": [
    "# Encoding the target variable\n",
    "scaled_data['target'] = scaled_data['target'].astype('category').cat.codes\n",
    "scaled_data.head()"
   ]
  },
  {
   "cell_type": "code",
   "execution_count": 49,
   "id": "2059a3c3",
   "metadata": {},
   "outputs": [],
   "source": [
    "# Preparing final dataset\n",
    "X = scaled_data.drop('target', axis=1)\n",
    "y = scaled_data['target']"
   ]
  },
  {
   "cell_type": "markdown",
   "id": "6594507e",
   "metadata": {},
   "source": [
    "## Split Train and Test"
   ]
  },
  {
   "cell_type": "code",
   "execution_count": null,
   "id": "78f95597",
   "metadata": {},
   "outputs": [],
   "source": [
    "# Splitting data\n",
    "X_train, X_test, y_train, y_test = train_test_split(X, y, test_size=0.2, random_state=42, stratify=y)"
   ]
  },
  {
   "cell_type": "markdown",
   "id": "095b99a3",
   "metadata": {},
   "source": [
    "## OVA (by default)\n",
    "\n",
    "Builds a binary model by class, estimating if it **belongs to the class or not**."
   ]
  },
  {
   "cell_type": "code",
   "execution_count": 52,
   "id": "3d1d160a",
   "metadata": {},
   "outputs": [
    {
     "name": "stdout",
     "output_type": "stream",
     "text": [
      "One-vs-All (OvA) Strategy\n",
      "Accuracy: 90.0%\n"
     ]
    }
   ],
   "source": [
    "# Training logistic regression model using One-vs-All (default)\n",
    "model_ova = LogisticRegression(multi_class='ovr', max_iter=1000)\n",
    "model_ova.fit(X_train, y_train)\n",
    "\n",
    "# Predictions\n",
    "y_pred_ova = model_ova.predict(X_test)\n",
    "\n",
    "# Evaluation metrics for OvA\n",
    "print(\"One-vs-All (OvA) Strategy\")\n",
    "print(f\"Accuracy: {np.round(100*accuracy_score(y_test, y_pred_ova),2)}%\")"
   ]
  },
  {
   "cell_type": "markdown",
   "id": "89906851",
   "metadata": {},
   "source": [
    "## OVO\n",
    "\n",
    "Builds kC2 combinations of models, to build as many models as the number of different couples of classes. Red or blue? Red or green? etc."
   ]
  },
  {
   "cell_type": "code",
   "execution_count": null,
   "id": "e41b9abe",
   "metadata": {},
   "outputs": [
    {
     "name": "stdout",
     "output_type": "stream",
     "text": [
      "One-vs-One (OvO) Strategy\n",
      "Accuracy: 96.67%\n"
     ]
    }
   ],
   "source": [
    "# Training logistic regression model using One-vs-One\n",
    "model_ovo = OneVsOneClassifier(LogisticRegression(max_iter=1000))\n",
    "model_ovo.fit(X_train, y_train)\n",
    "\n",
    "# Predictions\n",
    "y_pred_ovo = model_ovo.predict(X_test)\n",
    "\n",
    "# Evaluation metrics for OvO\n",
    "print(\"One-vs-One (OvO) Strategy\")\n",
    "print(f\"Accuracy: {np.round(100*accuracy_score(y_test, y_pred_ovo),2)}%\")\n"
   ]
  },
  {
   "cell_type": "code",
   "execution_count": 64,
   "id": "5f618efa",
   "metadata": {},
   "outputs": [
    {
     "data": {
      "image/png": "[encoded data removed]",
      "text/plain": [
       "<Figure size 640x480 with 1 Axes>"
      ]
     },
     "metadata": {},
     "output_type": "display_data"
    },
    {
     "data": {
      "image/png": "[encoded data removed]",
      "text/plain": [
       "<Figure size 640x480 with 1 Axes>"
      ]
     },
     "metadata": {},
     "output_type": "display_data"
    }
   ],
   "source": [
    "# Feature importance\n",
    "feature_importance = np.mean(np.abs(model_ova.coef_), axis=0)\n",
    "plt.barh(X.columns, feature_importance)\n",
    "plt.title(\"Feature Importance\")\n",
    "plt.xlabel(\"Importance\")\n",
    "plt.show()\n",
    "\n",
    "# For One vs One model\n",
    "# Collect all coefficients from each underlying binary classifier\n",
    "coefs = np.array([est.coef_[0] for est in model_ovo.estimators_])\n",
    "\n",
    "# Now take the mean across all those classifiers\n",
    "feature_importance = np.mean(np.abs(coefs), axis=0)\n",
    "\n",
    "# Plot feature importance\n",
    "plt.barh(X.columns, feature_importance)\n",
    "plt.title(\"Feature Importance (One-vs-One)\")\n",
    "plt.xlabel(\"Importance\")\n",
    "plt.show()"
   ]
  }
 ],
 "metadata": {
  "kernelspec": {
   "display_name": "ml_pf",
   "language": "python",
   "name": "python3"
  },
  "language_info": {
   "codemirror_mode": {
    "name": "ipython",
    "version": 3
   },
   "file_extension": ".py",
   "mimetype": "text/x-python",
   "name": "python",
   "nbconvert_exporter": "python",
   "pygments_lexer": "ipython3",
   "version": "3.11.13"
  }
 },
 "nbformat": 4,
 "nbformat_minor": 5
}
