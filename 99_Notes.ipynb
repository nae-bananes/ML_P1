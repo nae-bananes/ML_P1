{
 "cells": [
  {
   "cell_type": "markdown",
   "id": "18d92cb5",
   "metadata": {},
   "source": [
    "# (1) What is the difference between Conda vs PIP in installation?\n",
    "\n",
    "Both are the package managers. However, Conda is a **System** package manager while PIP is only a **Python** package manager. So we can manage packages of many other softwares - R, Django, Java, for example. But with PIP we can manage only Python packages. It also allows to **isolate** the necessary software stacks by projects. \n",
    "\n",
    "Sometimes PIP misbehaves and installs packages in other environment then the virtual environment of choice. \n",
    "\n",
    "https://www.reddit.com/r/Python/comments/w564g0/can_anyone_explain_the_differences_of_conda_vs_pip/\n",
    "\n",
    "## Docker:\n",
    "\n",
    "A virtualenv only encapsulates Python dependencies. A Docker container encapsulates an entire OS (Like VM). With a Python virtualenv, you can easily switch between Python versions and dependencies, but you're stuck with your host OS. With a Docker image, you can swap out the entire OS - install and run Python on Ubuntu, Debian, Alpine, even Windows Server Core.\n",
    "\n"
   ]
  }
 ],
 "metadata": {
  "kernelspec": {
   "display_name": "ml_pf",
   "language": "python",
   "name": "python3"
  },
  "language_info": {
   "name": "python",
   "version": "3.11.13"
  }
 },
 "nbformat": 4,
 "nbformat_minor": 5
}
