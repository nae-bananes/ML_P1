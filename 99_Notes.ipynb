{
 "cells": [
  {
   "cell_type": "markdown",
   "id": "18d92cb5",
   "metadata": {},
   "source": [
    "# (1) What is the difference between Conda vs PIP in installation?\n",
    "\n",
    "Both are the package managers. However, Conda is a **System** package manager while PIP is only a **Python** package manager. So we can manage packages of many other softwares - R, Django, Java, for example. But with PIP we can manage only Python packages. It also allows to **isolate** the necessary software stacks by projects. \n",
    "\n",
    "Sometimes PIP misbehaves and installs packages in other environment then the virtual environment of choice. \n",
    "\n",
    "https://www.reddit.com/r/Python/comments/w564g0/can_anyone_explain_the_differences_of_conda_vs_pip/\n",
    "\n",
    "## Docker:\n",
    "\n",
    "A virtualenv only encapsulates Python dependencies. A Docker container encapsulates an entire OS (Like VM). With a Python virtualenv, you can easily switch between Python versions and dependencies, but you're stuck with your host OS. With a Docker image, you can swap out the entire OS - install and run Python on Ubuntu, Debian, Alpine, even Windows Server Core.\n",
    "\n"
   ]
  },
  {
   "cell_type": "code",
   "execution_count": 1,
   "id": "5d45bb6a",
   "metadata": {},
   "outputs": [
    {
     "name": "stdout",
     "output_type": "stream",
     "text": [
      "Original 1D array: [1 2 3 4 5 6]\n",
      "Shape of original array: (6,)\n",
      "\n",
      "Reshaped 2D column array:\n",
      "[[1]\n",
      " [2]\n",
      " [3]\n",
      " [4]\n",
      " [5]\n",
      " [6]]\n",
      "Shape of reshaped array: (6, 1)\n"
     ]
    }
   ],
   "source": [
    "import numpy as np\n",
    "\n",
    "# Original 1D array\n",
    "arr_1d = np.array([1, 2, 3, 4, 5, 6])\n",
    "print(f\"Original 1D array: {arr_1d}\")\n",
    "print(f\"Shape of original array: {arr_1d.shape}\")\n",
    "\n",
    "# Reshape to a 2D column vector\n",
    "arr_2d_column = arr_1d.reshape(-1, 1)\n",
    "print(f\"\\nReshaped 2D column array:\\n{arr_2d_column}\")\n",
    "print(f\"Shape of reshaped array: {arr_2d_column.shape}\")"
   ]
  }
 ],
 "metadata": {
  "kernelspec": {
   "display_name": "ml_pf",
   "language": "python",
   "name": "python3"
  },
  "language_info": {
   "codemirror_mode": {
    "name": "ipython",
    "version": 3
   },
   "file_extension": ".py",
   "mimetype": "text/x-python",
   "name": "python",
   "nbconvert_exporter": "python",
   "pygments_lexer": "ipython3",
   "version": "3.11.13"
  }
 },
 "nbformat": 4,
 "nbformat_minor": 5
}
